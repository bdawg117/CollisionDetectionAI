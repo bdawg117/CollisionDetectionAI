{
 "cells": [
  {
   "cell_type": "code",
   "execution_count": null,
   "metadata": {},
   "outputs": [],
   "source": [
    "import pandas as pd"
   ]
  },
  {
   "cell_type": "code",
   "execution_count": null,
   "metadata": {},
   "outputs": [],
   "source": [
    "file = './highD/data/01_tracks.csv'\n",
    "\n",
    "df = pd.read_csv(file)"
   ]
  },
  {
   "cell_type": "code",
   "execution_count": null,
   "metadata": {},
   "outputs": [],
   "source": [
    "\n",
    "columns_to_drop = [\n",
    "    'precedingId', 'followingId', 'leftPrecedingId', 'leftAlongsideId', \n",
    "    'leftFollowingId', 'rightPrecedingId', 'rightAlongsideId', 'rightFollowingId', 'precedingXVelocity'\n",
    "]\n",
    "\n",
    "# Drop the columns from the DataFrame\n",
    "df= df.drop(columns=columns_to_drop)\n",
    "print(df.head())# List of columns to drop"
   ]
  },
  {
   "cell_type": "code",
   "execution_count": null,
   "metadata": {},
   "outputs": [],
   "source": [
    "print(df.info())\n"
   ]
  },
  {
   "cell_type": "code",
   "execution_count": null,
   "metadata": {},
   "outputs": [],
   "source": [
    "df_sorted = df.sort_values(by=['id', 'frame'])\n",
    "grouped = df_sorted.groupby('id')"
   ]
  },
  {
   "cell_type": "code",
   "execution_count": null,
   "metadata": {},
   "outputs": [],
   "source": [
    "import pandas as pd\n",
    "from sklearn.preprocessing import MinMaxScaler\n",
    "\n",
    "# Sort and group the DataFrame\n",
    "df_sorted = df.sort_values(by=['id', 'frame'])\n",
    "grouped = df_sorted.groupby('id', group_keys=False)\n",
    "\n",
    "# Feature engineerin\n",
    "def create_lagged_features(group, n_lags=5):\n",
    "    features = ['x', 'y', 'xVelocity', 'yVelocity' , 'xAcceleration' ,'yAcceleration', 'frontSightDistance', 'backSightDistance', 'dhw' ,'thw']\n",
    "    for feature in features:\n",
    "        for lag in range(1, n_lags + 1):\n",
    "            group[f'{feature}_lag_{lag}'] = group[feature].shift(lag)\n",
    "    return group\n",
    "\n",
    "\n",
    "# Apply feature engineering\n",
    "df_features = grouped.apply(create_lagged_features, include_groups=False).dropna()\n",
    "\n",
    "\n",
    "# Initialize the MinMaxScaler with a range of -1 to 1\n",
    "scaler = MinMaxScaler(feature_range=(-1, 1))\n",
    "\n",
    "# Select columns to scale (excluding 'frame', 'id', 'laneId')\n",
    "columns_to_scale = df_features.columns.difference(['frame', 'id', 'laneId'])\n",
    "\n",
    "# Scale these columns\n",
    "df_features[columns_to_scale] = scaler.fit_transform(df_features[columns_to_scale])\n",
    "\n"
   ]
  },
  {
   "cell_type": "code",
   "execution_count": null,
   "metadata": {},
   "outputs": [],
   "source": []
  },
  {
   "cell_type": "code",
   "execution_count": null,
   "metadata": {},
   "outputs": [],
   "source": [
    "from sklearn.model_selection import train_test_split\n",
    "from sklearn.preprocessing import StandardScaler\n",
    "import tensorflow as tf\n",
    "\n",
    "# split data\n",
    "train, test = train_test_split(df_features, test_size=0.2, random_state=42)\n",
    "train, val = train_test_split(train, test_size=0.20, random_state=42) \n",
    "\n",
    "# set x and y features\n",
    "feature_columns = [col for col in train.columns if 'lag' in col]\n",
    "X_train = scaler.fit_transform(train[feature_columns])\n",
    "X_val = scaler.transform(val[feature_columns])\n",
    "X_test = scaler.transform(test[feature_columns])\n",
    "\n",
    "# set ttc to target\n",
    "y_train = train['ttc'].values\n",
    "y_val = val['ttc'].values\n",
    "y_test = test['ttc'].values\n",
    "\n",
    "def build_model(input_shape, learning_rate=0.0001):\n",
    "    inputs = tf.keras.Input(shape=input_shape)\n",
    "    x = tf.keras.layers.LayerNormalization()(inputs)\n",
    "    x = tf.keras.layers.MultiHeadAttention(num_heads=3, key_dim=input_shape[-1])(x, x)\n",
    "    x = tf.keras.layers.GlobalAveragePooling1D()(x)\n",
    "    x = tf.keras.layers.Dropout(0.5)(x)\n",
    "    x = tf.keras.layers.Dense(25, activation='relu')(x)\n",
    "    outputs = tf.keras.layers.Dense(1)(x)  # Assuming a regression problem\n",
    "    model = tf.keras.models.Model(inputs=inputs, outputs=outputs)\n",
    "    return model\n",
    "\n",
    "model = build_model((X_train.shape[1], 1), learning_rate=0.0001)  # Update the shape based on your actual input feature shape\n",
    "model.compile(optimizer='adam', loss='mse')\n",
    "\n",
    "# train\n",
    "history = model.fit(X_train, y_train, validation_data=(X_val, y_val), epochs=10, batch_size=32)\n",
    "\n",
    "#evaluate\n",
    "test_loss = model.evaluate(X_test, y_test)\n"
   ]
  },
  {
   "cell_type": "code",
   "execution_count": null,
   "metadata": {},
   "outputs": [],
   "source": [
    "import matplotlib.pyplot as plt\n",
    "\n",
    "# 1. Training history\n",
    "plt.plot(history.history['loss'], label='Training Loss')\n",
    "plt.plot(history.history['val_loss'], label='Validation Loss')\n",
    "plt.xlabel('Epoch')\n",
    "plt.ylabel('Loss')\n",
    "plt.legend()\n",
    "plt.title('Training and Validation Loss')\n",
    "plt.show()\n",
    "\n",
    "# 2. Test loss\n",
    "print(\"Test Loss:\", test_loss)\n"
   ]
  },
  {
   "cell_type": "markdown",
   "metadata": {},
   "source": []
  }
 ],
 "metadata": {
  "kernelspec": {
   "display_name": "Python 3",
   "language": "python",
   "name": "python3"
  },
  "language_info": {
   "codemirror_mode": {
    "name": "ipython",
    "version": 3
   },
   "file_extension": ".py",
   "mimetype": "text/x-python",
   "name": "python",
   "nbconvert_exporter": "python",
   "pygments_lexer": "ipython3",
   "version": "3.11.0"
  }
 },
 "nbformat": 4,
 "nbformat_minor": 2
}
